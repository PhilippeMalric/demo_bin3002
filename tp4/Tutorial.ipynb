{
 "metadata": {
  "name": "",
  "signature": "sha256:620e7256649f0e210def4c3de6899f462c83342c3664aa60934e8b7420d56356"
 },
 "nbformat": 3,
 "nbformat_minor": 0,
 "worksheets": [
  {
   "cells": [
    {
     "cell_type": "code",
     "collapsed": false,
     "input": [
      "# Vous allez devoir utiliser JSON et XML afin de realiser ce TP.\n",
      "# Afin de vous aider un peu, je vous montre comment utiliser ces\n",
      "# deux technologies a travers un exemple minimal.\n",
      "\n",
      "import xml.etree.ElementTree as etree\n",
      "import urllib\n",
      "import json\n",
      "\n",
      "def parse_xml():\n",
      "    \"\"\"Queries Pubmed through NCBI EUtils and parses the XML to show the results. \"\"\"\n",
      "    \n",
      "    url = (\"http://eutils.ncbi.nlm.nih.gov/entrez/eutils/esearch.fcgi?\"\n",
      "           \"db=pubmed&\"\n",
      "           \"term=science%5bjournal%5d+AND+breast+cancer+AND+2008%5bpdat%5d\")\n",
      "    \n",
      "    # Portion du XML retourne:\n",
      "    # <eSearchResult>\n",
      "    #   <Count>6</Count>\n",
      "    #   <RetMax>6</RetMax>\n",
      "    #   <RetStart>0</RetStart>\n",
      "    #   <IdList>\n",
      "    #     <Id>19008416</Id>\n",
      "    #     <Id>18927361</Id>\n",
      "    #     <Id>18787170</Id>\n",
      "    #     <Id>18487186</Id>\n",
      "    #     <Id>18239126</Id>\n",
      "    #     <Id>18239125</Id>\n",
      "    #   </IdList>\n",
      "    # ...\n",
      "    # Nous voulons extraire le nombre d'articles trouves et\n",
      "    # Le pubmed id de ces articles.\n",
      "    \n",
      "    # Se connecte a l'URL et telecharge le contenu.\n",
      "    with urllib.request.urlopen(url) as stream:\n",
      "        xml_data = stream.read()\n",
      "        \n",
      "    # Construir l'arbre correspondant au XML.\n",
      "    xml_tree = etree.fromstring(xml_data)\n",
      "\n",
      "    # Extrait de elements par recherche et par iteration \n",
      "    # sur les enfants.\n",
      "    num_results = int(xml_tree.find(\"Count\").text)\n",
      "    print(\"Found {} results.\\n\".format(num_results))\n",
      "    \n",
      "    for pmid in xml_tree.find(\"IdList\"):\n",
      "        print(\"\\t\", pmid.text)\n",
      "\n",
      "parse_xml()"
     ],
     "language": "python",
     "metadata": {},
     "outputs": [
      {
       "output_type": "stream",
       "stream": "stdout",
       "text": [
        "Found 6 results.\n",
        "\n",
        "\t 19008416\n",
        "\t 18927361\n",
        "\t 18787170\n",
        "\t 18487186\n",
        "\t 18239126\n",
        "\t 18239125\n"
       ]
      }
     ],
     "prompt_number": 20
    },
    {
     "cell_type": "code",
     "collapsed": false,
     "input": [
      "import re\n",
      "\n",
      "def parse_json():\n",
      "    \"\"\"Gets one cute cat picture from Reddit using the API. \"\"\"\n",
      "    url = \"http://www.reddit.com/r/aww/hot.json\"\n",
      "    with urllib.request.urlopen(url) as stream:\n",
      "        posts = json.loads(stream.read().decode(\"utf-8\"))\n",
      "    \n",
      "    # Remarquez que ce sont deja des objets Python.\n",
      "    print(\"Voici des liens vers des choses cute:\\n\")\n",
      "    for post in posts[\"data\"][\"children\"]:\n",
      "        url = post[\"data\"][\"url\"]\n",
      "        if re.search(r\"imgur\\.com.+\\.jpg$\", url):\n",
      "            print(url)\n",
      "        \n",
      "parse_json()"
     ],
     "language": "python",
     "metadata": {},
     "outputs": [
      {
       "output_type": "stream",
       "stream": "stdout",
       "text": [
        "Voici des liens vers des choses cute:\n",
        "\n",
        "http://i.imgur.com/Szp9Kxj.jpg\n",
        "http://i.imgur.com/OiKbydl.jpg\n",
        "http://i.imgur.com/5Vlh8Ds.jpg\n",
        "http://i.imgur.com/KjS4XvN.jpg\n",
        "http://i.imgur.com/KZsWSRE.jpg\n",
        "http://i.imgur.com/EJkU6FD.jpg\n",
        "https://i.imgur.com/DumTLUa.jpg\n",
        "http://i.imgur.com/cIOofg2.jpg\n",
        "http://i.imgur.com/yUyAmTx.jpg\n",
        "http://i.imgur.com/aNDk1cN.jpg\n",
        "http://i.imgur.com/AslHRrc.jpg\n",
        "http://i.imgur.com/C44bvz8.jpg\n",
        "https://i.imgur.com/LxEBx9A.jpg\n",
        "http://i.imgur.com/JerVqAw.jpg\n"
       ]
      }
     ],
     "prompt_number": 30
    },
    {
     "cell_type": "code",
     "collapsed": false,
     "input": [],
     "language": "python",
     "metadata": {},
     "outputs": []
    }
   ],
   "metadata": {}
  }
 ]
}